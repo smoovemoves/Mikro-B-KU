{
 "cells": [
  {
   "cell_type": "markdown",
   "id": "2437836a-d317-4724-a20a-da5e93b99375",
   "metadata": {
    "tags": []
   },
   "source": [
    "# Problem Set 1: Ex Ante Code\n",
    "\n",
    "This notebook accompanies Problem Set 1. Together with it, you should have the file, `hst.py`. "
   ]
  },
  {
   "cell_type": "code",
   "execution_count": 1,
   "id": "7e671afa-acf5-4399-b89c-d1d97b364d65",
   "metadata": {},
   "outputs": [],
   "source": [
    "import numpy as np \n",
    "import pandas as pd "
   ]
  },
  {
   "cell_type": "markdown",
   "id": "2ad253ab-2bb4-4717-ae11-c0ffb898e133",
   "metadata": {},
   "source": [
    "# The game from Question 1"
   ]
  },
  {
   "cell_type": "code",
   "execution_count": 21,
   "id": "281056eb-df6c-4819-b85d-f8a06d833b53",
   "metadata": {},
   "outputs": [],
   "source": [
    "# the game from Question 1 in Problem Set 1\n",
    "U1 = np.array([[5,3,1],\n",
    "               [2,2,3],\n",
    "               [2,1,0]])\n",
    "U2 = np.array([[0,3,1],\n",
    "               [4,2,1],\n",
    "               [2,1,5]])\n",
    "na1,na2 = U1.shape"
   ]
  },
  {
   "cell_type": "code",
   "execution_count": 3,
   "id": "bebe94f9-c747-4d65-9b51-3a7217fd2c38",
   "metadata": {},
   "outputs": [],
   "source": [
    "# A helpful function for printing bimatrix games\n",
    "def print_payoffs(U1, U2): \n",
    "    na1,na2 = U1.shape\n",
    "    tuple_list = [[(U1[r,c],U2[r,c]) for c in range(na2)] for r in range(na1)]\n",
    "    return pd.DataFrame(tuple_list) "
   ]
  },
  {
   "cell_type": "code",
   "execution_count": 4,
   "id": "01b3ba4f-78af-44c4-bac7-7678e1c1236e",
   "metadata": {},
   "outputs": [
    {
     "data": {
      "text/html": [
       "<div>\n",
       "<style scoped>\n",
       "    .dataframe tbody tr th:only-of-type {\n",
       "        vertical-align: middle;\n",
       "    }\n",
       "\n",
       "    .dataframe tbody tr th {\n",
       "        vertical-align: top;\n",
       "    }\n",
       "\n",
       "    .dataframe thead th {\n",
       "        text-align: right;\n",
       "    }\n",
       "</style>\n",
       "<table border=\"1\" class=\"dataframe\">\n",
       "  <thead>\n",
       "    <tr style=\"text-align: right;\">\n",
       "      <th></th>\n",
       "      <th>0</th>\n",
       "      <th>1</th>\n",
       "      <th>2</th>\n",
       "    </tr>\n",
       "  </thead>\n",
       "  <tbody>\n",
       "    <tr>\n",
       "      <th>0</th>\n",
       "      <td>(5, 0)</td>\n",
       "      <td>(3, 3)</td>\n",
       "      <td>(1, 1)</td>\n",
       "    </tr>\n",
       "    <tr>\n",
       "      <th>1</th>\n",
       "      <td>(2, 4)</td>\n",
       "      <td>(2, 2)</td>\n",
       "      <td>(3, 1)</td>\n",
       "    </tr>\n",
       "    <tr>\n",
       "      <th>2</th>\n",
       "      <td>(2, 2)</td>\n",
       "      <td>(1, 1)</td>\n",
       "      <td>(0, 5)</td>\n",
       "    </tr>\n",
       "  </tbody>\n",
       "</table>\n",
       "</div>"
      ],
      "text/plain": [
       "        0       1       2\n",
       "0  (5, 0)  (3, 3)  (1, 1)\n",
       "1  (2, 4)  (2, 2)  (3, 1)\n",
       "2  (2, 2)  (1, 1)  (0, 5)"
      ]
     },
     "execution_count": 4,
     "metadata": {},
     "output_type": "execute_result"
    }
   ],
   "source": [
    "print_payoffs(U1, U2)"
   ]
  },
  {
   "cell_type": "markdown",
   "id": "2c810634-3134-457c-bd7e-d15da1216057",
   "metadata": {},
   "source": [
    "# Part 1: Coding up IESDS"
   ]
  },
  {
   "cell_type": "markdown",
   "id": "4ab524e6-7586-43d9-9e0b-62a5f662995c",
   "metadata": {},
   "source": [
    "## a) Checking for dominance \"manually\" \n",
    "\n",
    "First, write up a function that checks whether one action dominates another strictly for the row player. \n",
    "\n",
    "***Hints:*** \n",
    "* Use `np.all(U[1,:] > U[0,:])` to check if all elements of the second row is greater than the those of the first (elementwise). "
   ]
  },
  {
   "cell_type": "code",
   "execution_count": 5,
   "id": "86904efb-7090-44d4-9067-7806f833332f",
   "metadata": {},
   "outputs": [],
   "source": [
    "def check_dominance_for_1(U1):\n",
    "    '''\n",
    "    Input: \n",
    "        U1: (na1*na2) numpy array of utilities for the row player\n",
    "    Returns: \n",
    "        dominated_actions: list of integers (or empty) for the dominated actions\n",
    "    '''\n",
    "    na1,na2 = U1.shape\n",
    "    dominated_actions = []\n",
    "    for a in range(na1):\n",
    "        for a_ in range(na1): \n",
    "            if a_ == a: \n",
    "                continue\n",
    "            if (U1[a, :] < U1[a_, :]).all():\n",
    "                print(f'a={a} is strictly dominated by a={a_}')\n",
    "                dominated_actions.append(a)\n",
    "                break\n",
    "    return dominated_actions"
   ]
  },
  {
   "cell_type": "code",
   "execution_count": 22,
   "id": "5cbdfd5e-42bc-4656-ae8b-754e06c1377a",
   "metadata": {},
   "outputs": [],
   "source": [
    "# Let's make copies to avoid changing the originals\n",
    "u1 = U1.copy()\n",
    "u2 = U2.copy()"
   ]
  },
  {
   "cell_type": "code",
   "execution_count": 23,
   "id": "d8cefa55-2029-4ebb-ab21-7dd2b8d95c28",
   "metadata": {},
   "outputs": [
    {
     "name": "stdout",
     "output_type": "stream",
     "text": [
      "a=2 is strictly dominated by a=0\n"
     ]
    }
   ],
   "source": [
    "a_del = check_dominance_for_1(u1)"
   ]
  },
  {
   "cell_type": "code",
   "execution_count": 24,
   "id": "ab3b85a1-34fe-4805-8934-94f8b7aeee9e",
   "metadata": {},
   "outputs": [
    {
     "data": {
      "text/html": [
       "<div>\n",
       "<style scoped>\n",
       "    .dataframe tbody tr th:only-of-type {\n",
       "        vertical-align: middle;\n",
       "    }\n",
       "\n",
       "    .dataframe tbody tr th {\n",
       "        vertical-align: top;\n",
       "    }\n",
       "\n",
       "    .dataframe thead th {\n",
       "        text-align: right;\n",
       "    }\n",
       "</style>\n",
       "<table border=\"1\" class=\"dataframe\">\n",
       "  <thead>\n",
       "    <tr style=\"text-align: right;\">\n",
       "      <th></th>\n",
       "      <th>0</th>\n",
       "      <th>1</th>\n",
       "      <th>2</th>\n",
       "    </tr>\n",
       "  </thead>\n",
       "  <tbody>\n",
       "    <tr>\n",
       "      <th>0</th>\n",
       "      <td>(5, 0)</td>\n",
       "      <td>(3, 3)</td>\n",
       "      <td>(1, 1)</td>\n",
       "    </tr>\n",
       "    <tr>\n",
       "      <th>1</th>\n",
       "      <td>(2, 4)</td>\n",
       "      <td>(2, 2)</td>\n",
       "      <td>(3, 1)</td>\n",
       "    </tr>\n",
       "  </tbody>\n",
       "</table>\n",
       "</div>"
      ],
      "text/plain": [
       "        0       1       2\n",
       "0  (5, 0)  (3, 3)  (1, 1)\n",
       "1  (2, 4)  (2, 2)  (3, 1)"
      ]
     },
     "execution_count": 24,
     "metadata": {},
     "output_type": "execute_result"
    }
   ],
   "source": [
    "a_keep = [a for a in range(u1.shape[0]) if a not in a_del]\n",
    "u1 = u1[a_keep, :]\n",
    "u2 = u2[a_keep, :]\n",
    "print_payoffs(u1,u2)"
   ]
  },
  {
   "cell_type": "markdown",
   "id": "99747de6-8922-46c1-b8b7-c603923b7476",
   "metadata": {},
   "source": [
    "We can use a clever trick to avoid writing a `check_for_dominance_2` file for the column player: namely that if we transpose `U2`, then it is as if player 2 is choosing the rows. "
   ]
  },
  {
   "cell_type": "code",
   "execution_count": 25,
   "id": "1f9bab62-122d-47a2-9a75-812c9d909af1",
   "metadata": {},
   "outputs": [
    {
     "name": "stdout",
     "output_type": "stream",
     "text": [
      "a=2 is strictly dominated by a=1\n"
     ]
    }
   ],
   "source": [
    "a_del = check_dominance_for_1(FILL IN)"
   ]
  },
  {
   "cell_type": "code",
   "execution_count": 26,
   "id": "1d6ce6a2-92b4-49d0-8253-5dffa55bb798",
   "metadata": {},
   "outputs": [
    {
     "data": {
      "text/html": [
       "<div>\n",
       "<style scoped>\n",
       "    .dataframe tbody tr th:only-of-type {\n",
       "        vertical-align: middle;\n",
       "    }\n",
       "\n",
       "    .dataframe tbody tr th {\n",
       "        vertical-align: top;\n",
       "    }\n",
       "\n",
       "    .dataframe thead th {\n",
       "        text-align: right;\n",
       "    }\n",
       "</style>\n",
       "<table border=\"1\" class=\"dataframe\">\n",
       "  <thead>\n",
       "    <tr style=\"text-align: right;\">\n",
       "      <th></th>\n",
       "      <th>0</th>\n",
       "      <th>1</th>\n",
       "    </tr>\n",
       "  </thead>\n",
       "  <tbody>\n",
       "    <tr>\n",
       "      <th>0</th>\n",
       "      <td>(5, 0)</td>\n",
       "      <td>(3, 3)</td>\n",
       "    </tr>\n",
       "    <tr>\n",
       "      <th>1</th>\n",
       "      <td>(2, 4)</td>\n",
       "      <td>(2, 2)</td>\n",
       "    </tr>\n",
       "  </tbody>\n",
       "</table>\n",
       "</div>"
      ],
      "text/plain": [
       "        0       1\n",
       "0  (5, 0)  (3, 3)\n",
       "1  (2, 4)  (2, 2)"
      ]
     },
     "execution_count": 26,
     "metadata": {},
     "output_type": "execute_result"
    }
   ],
   "source": [
    "a_keep = [a for a in range(u2.shape[1]) if a not in a_del]\n",
    "u1 = u1[:, a_keep]\n",
    "u2 = u2[:, a_keep]\n",
    "print_payoffs(u1,u2)"
   ]
  },
  {
   "cell_type": "markdown",
   "id": "da35d1ff-f96d-47cc-8b21-d401fbd85d7d",
   "metadata": {},
   "source": [
    "## b) The IESDS Algorithm"
   ]
  },
  {
   "cell_type": "code",
   "execution_count": null,
   "id": "9374208c-7e1c-41aa-bbd0-40fc55ca00ff",
   "metadata": {},
   "outputs": [],
   "source": [
    "def IESDS(U1_in, U2_in, maxit=100): \n",
    "    '''\n",
    "    INPUTS: \n",
    "        U1_in, U2_in: two utility matrices with same dimensions, (na1,na2). \n",
    "        maxit: maximum number of iterations to run (to avoid infinite runtime). \n",
    "        \n",
    "    OUTPUTS: U1, U2, aa1, aa2\n",
    "        U1,U2: Reduced matrices, containing only the undominated actions \n",
    "        aa1,aa2: lists of integers corresponding to the rows in the *original* \n",
    "            utility matrices that have survived IESDS. \n",
    "    \n",
    "    '''\n",
    "    \n",
    "    # make copies to avoid overwriting the original game \n",
    "    U1 = U1_in.copy()\n",
    "    U2 = U2_in.copy()\n",
    "    \n",
    "    # the actions of the players\n",
    "    na1,na2 = U1.shape \n",
    "    assert (U2.shape[0] == na1) & (U2.shape[1] == na2), f'Dimensions mismatch!'\n",
    "    \n",
    "    # lists of actions: we will be deleting the elements from these that turn out to be dominated\n",
    "    aa1 = np.arange(na1) \n",
    "    aa2 = np.arange(na2)\n",
    "    \n",
    "    for it in range(maxit): # use a max number of iterations to avoid the algorithm running forever\n",
    "        # to keep track of when we are done \n",
    "        d = False\n",
    "        \n",
    "        # check for player 1\n",
    "        a_del = check_dominance_for_1(U1) # note that this function does not know that U1 has possibly been reduced\n",
    "        a_keep = [] # FILL IN: the indices for the rows of the *current* matrices we should keep \n",
    "        \n",
    "        # delete dominated actions and their rows \n",
    "        aa1 = aa1[a_keep]\n",
    "        U1 = U1[a_keep, :]\n",
    "        U2 = U2[a_keep, :]\n",
    "        \n",
    "        if something: \n",
    "            d = True   \n",
    "        \n",
    "        # check for player 2 \n",
    "        a_del = check_dominance_for_1(FILL IN) # we can use a clever trick to check U2 as if it were the row player...\n",
    "        a_keep = [] # FILL IN: indices for the *columns* we should keep \n",
    "        \n",
    "        # delete dominated actions and their columns\n",
    "        aa2 = aa2[a_keep] \n",
    "        U1 = U1[:, a_keep]\n",
    "        U2 = U2[:, a_keep]\n",
    "        \n",
    "        if something: \n",
    "            d = True    \n",
    "            \n",
    "        if not d: \n",
    "            print(f'No further strategies to delete after {it} iterations')\n",
    "            break \n",
    "        \n",
    "    assert it < maxit, f'Algorithm did not finish'\n",
    "    \n",
    "    return U1, U2, aa1, aa2"
   ]
  },
  {
   "cell_type": "code",
   "execution_count": 12,
   "id": "731b3723-2280-41c9-a2b9-f9ade9abc11c",
   "metadata": {},
   "outputs": [
    {
     "name": "stdout",
     "output_type": "stream",
     "text": [
      "a=2 is strictly dominated by a=0\n",
      "a=2 is strictly dominated by a=1\n",
      "a=1 is strictly dominated by a=0\n",
      "a=0 is strictly dominated by a=1\n",
      "No further strategies to delete after 2 iterations\n"
     ]
    },
    {
     "data": {
      "text/html": [
       "<div>\n",
       "<style scoped>\n",
       "    .dataframe tbody tr th:only-of-type {\n",
       "        vertical-align: middle;\n",
       "    }\n",
       "\n",
       "    .dataframe tbody tr th {\n",
       "        vertical-align: top;\n",
       "    }\n",
       "\n",
       "    .dataframe thead th {\n",
       "        text-align: right;\n",
       "    }\n",
       "</style>\n",
       "<table border=\"1\" class=\"dataframe\">\n",
       "  <thead>\n",
       "    <tr style=\"text-align: right;\">\n",
       "      <th></th>\n",
       "      <th>0</th>\n",
       "    </tr>\n",
       "  </thead>\n",
       "  <tbody>\n",
       "    <tr>\n",
       "      <th>0</th>\n",
       "      <td>(3, 3)</td>\n",
       "    </tr>\n",
       "  </tbody>\n",
       "</table>\n",
       "</div>"
      ],
      "text/plain": [
       "        0\n",
       "0  (3, 3)"
      ]
     },
     "execution_count": 12,
     "metadata": {},
     "output_type": "execute_result"
    }
   ],
   "source": [
    "u1, u2, aa1, aa2 = IESDS(U1, U2)\n",
    "print_payoffs(u1, u2,) "
   ]
  },
  {
   "cell_type": "markdown",
   "id": "c4cddf3d-700b-4bcf-beb8-799822bc39ee",
   "metadata": {},
   "source": [
    "# Part 2: Last year's exam "
   ]
  },
  {
   "cell_type": "code",
   "execution_count": 32,
   "id": "eacf62bb-8870-4220-a881-d612cb1b4266",
   "metadata": {},
   "outputs": [],
   "source": [
    "import hst \n",
    "import seaborn as sns "
   ]
  },
  {
   "cell_type": "markdown",
   "id": "0d9cfc3d-95f1-4450-9c8e-5815ee2b98db",
   "metadata": {},
   "source": [
    "Reading in the data using the external module"
   ]
  },
  {
   "cell_type": "code",
   "execution_count": 62,
   "id": "7d103f44-aca4-4721-94d7-361fa590c5e5",
   "metadata": {},
   "outputs": [],
   "source": [
    "dat,playrates = hst.read_data()\n",
    "decks = dat.columns.values # the names of the strategies "
   ]
  },
  {
   "cell_type": "code",
   "execution_count": 63,
   "id": "2d76f8ca-b093-4a31-94c3-642dcb1d991d",
   "metadata": {},
   "outputs": [
    {
     "data": {
      "image/png": "[encoded data removed]",
      "text/plain": [
       "<Figure size 432x288 with 2 Axes>"
      ]
     },
     "metadata": {
      "needs_background": "light"
     },
     "output_type": "display_data"
    }
   ],
   "source": [
    "sns.heatmap(dat);"
   ]
  },
  {
   "cell_type": "code",
   "execution_count": 64,
   "id": "abe8983b-1933-419b-926d-fcbdc1b12ea7",
   "metadata": {},
   "outputs": [],
   "source": [
    "# set up utilities as a 2-player zero-sum game\n",
    "U1 = dat.values \n",
    "U2 = -dat.values "
   ]
  },
  {
   "cell_type": "code",
   "execution_count": 65,
   "id": "f2ae1fbe-7272-4bea-b2c5-a92daaf2a4e0",
   "metadata": {},
   "outputs": [
    {
     "name": "stdout",
     "output_type": "stream",
     "text": [
      "a=9 is strictly dominated by a=4\n",
      "a=10 is strictly dominated by a=0\n",
      "a=11 is strictly dominated by a=5\n",
      "a=12 is strictly dominated by a=4\n",
      "a=9 is strictly dominated by a=4\n",
      "a=10 is strictly dominated by a=0\n",
      "a=11 is strictly dominated by a=5\n",
      "a=12 is strictly dominated by a=4\n",
      "No further strategies to delete after 1 iterations\n"
     ]
    }
   ],
   "source": [
    "u1, u2, aa1, aa2 = IESDS(U1, U2)"
   ]
  },
  {
   "cell_type": "markdown",
   "id": "16fb1b07-5921-4e59-9b02-612d7c3408ba",
   "metadata": {},
   "source": [
    "Since the game is symmetric, `aa1` and `aa2` should be the same (so check this!). "
   ]
  },
  {
   "cell_type": "code",
   "execution_count": 66,
   "id": "18259b1c-0c54-46d0-bdcc-c019c347057a",
   "metadata": {},
   "outputs": [
    {
     "name": "stdout",
     "output_type": "stream",
     "text": [
      "Dominated strategies: ['Midrange Demon Hunter' 'Miracle Druid' 'Miracle Rogue' 'Ping Mage']\n"
     ]
    }
   ],
   "source": [
    "# print which strategies were dominated \n",
    "na1,na2 = U1.shape \n",
    "aa_dominated = [] # FILL IN: based on aa1 \n",
    "print(f'Dominated strategies: {decks[aa_dominated]}')"
   ]
  },
  {
   "cell_type": "markdown",
   "id": "42aa4087-7307-43fd-a92f-3cd953ac1176",
   "metadata": {},
   "source": [
    "Plot the match winrates for the decks that survive IESDS"
   ]
  },
  {
   "cell_type": "code",
   "execution_count": 19,
   "id": "7e0b96b4-8756-43bd-a965-30693746aa28",
   "metadata": {},
   "outputs": [
    {
     "data": {
      "image/png": "[encoded data removed]",
      "text/plain": [
       "<Figure size 432x288 with 2 Axes>"
      ]
     },
     "metadata": {
      "needs_background": "light"
     },
     "output_type": "display_data"
    }
   ],
   "source": [
    "na1, na2 = dat.shape\n",
    "iaa1 = [a for a in range(na1) if a not in aa1] \n",
    "iaa2 = [a for a in range(na2) if a not in aa2] \n",
    "dat2 = dat.copy()\n",
    "dat2.iloc[iaa1, :] = np.nan\n",
    "dat2.iloc[:, iaa2] = np.nan\n",
    "sns.heatmap(dat2); "
   ]
  },
  {
   "cell_type": "markdown",
   "id": "1a7ab9fc-3e48-421a-9cb5-973426997e54",
   "metadata": {},
   "source": [
    "Use `dat.iloc[]` to index rows and columns of the `dat` dataframe with the indices that came out of your `IESDS` algorithm. "
   ]
  },
  {
   "cell_type": "code",
   "execution_count": 20,
   "id": "bd343586-3d30-4d4a-93ea-f437c5598a8a",
   "metadata": {},
   "outputs": [
    {
     "data": {
      "image/png": "[encoded data removed]",
      "text/plain": [
       "<Figure size 432x288 with 2 Axes>"
      ]
     },
     "metadata": {
      "needs_background": "light"
     },
     "output_type": "display_data"
    }
   ],
   "source": [
    "sns.heatmap(dat.iloc[aa1, aa2]); "
   ]
  }
 ],
 "metadata": {
  "kernelspec": {
   "display_name": "Python 3 (ipykernel)",
   "language": "python",
   "name": "python3"
  },
  "language_info": {
   "codemirror_mode": {
    "name": "ipython",
    "version": 3
   },
   "file_extension": ".py",
   "mimetype": "text/x-python",
   "name": "python",
   "nbconvert_exporter": "python",
   "pygments_lexer": "ipython3",
   "version": "3.9.7"
  }
 },
 "nbformat": 4,
 "nbformat_minor": 5
}
